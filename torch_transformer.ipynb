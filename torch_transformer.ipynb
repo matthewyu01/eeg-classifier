{
  "cells": [
    {
      "cell_type": "markdown",
      "metadata": {
        "id": "aeau2b2JQbn5"
      },
      "source": [
        "# Pytorch\n",
        "Installation: https://pytorch.org/get-started/locally/\n",
        "\n",
        "Documentation: https://pytorch.org/docs/stable/index.html"
      ]
    },
    {
      "cell_type": "code",
      "execution_count": 405,
      "metadata": {
        "colab": {
          "base_uri": "https://localhost:8080/"
        },
        "id": "cqLYQZoOlUfZ",
        "outputId": "b71db467-01f2-46f4-dd11-53db778ba150"
      },
      "outputs": [
        {
          "name": "stdout",
          "output_type": "stream",
          "text": [
            "Using python version 3.8.10 (default, Nov 14 2022, 12:59:47) \n",
            "[GCC 9.4.0]\n"
          ]
        }
      ],
      "source": [
        "import sys\n",
        "print(f'Using python version {sys.version}') # get python version\n",
        "\n",
        "import torch\n",
        "import torch.nn as nn\n",
        "import matplotlib.pyplot as plt\n",
        "import numpy as np"
      ]
    },
    {
      "cell_type": "markdown",
      "metadata": {
        "id": "hipcU_-ESQxR"
      },
      "source": [
        "# Downloading data:"
      ]
    },
    {
      "cell_type": "markdown",
      "metadata": {
        "id": "EIqeGuxgTV9k"
      },
      "source": [
        "# Loading and examining data"
      ]
    },
    {
      "cell_type": "code",
      "execution_count": 406,
      "metadata": {
        "id": "IT6UGiRqSia3"
      },
      "outputs": [],
      "source": [
        "X_train_valid = np.load(\"X_train_valid.npy\")\n",
        "y_train_valid = np.load(\"y_train_valid.npy\")\n",
        "X_test_np = np.load(\"X_test.npy\")\n",
        "y_test_np = np.load(\"y_test.npy\")"
      ]
    },
    {
      "cell_type": "code",
      "execution_count": 407,
      "metadata": {
        "colab": {
          "base_uri": "https://localhost:8080/"
        },
        "id": "U4fa_w4tSidL",
        "outputId": "7d48c96a-66fd-4647-bc07-8c2a01ba8c2c"
      },
      "outputs": [
        {
          "name": "stdout",
          "output_type": "stream",
          "text": [
            "Training/Valid data shape: (2115, 22, 1000)\n",
            "Training/Valid labels shape: (2115,)\n",
            "Test data shape: (443, 22, 1000)\n",
            "Test labels shape: (443,)\n"
          ]
        }
      ],
      "source": [
        "print (f'Training/Valid data shape: {X_train_valid.shape}')\n",
        "print (f'Training/Valid labels shape: {y_train_valid.shape}')\n",
        "print (f'Test data shape: {X_test_np.shape}')\n",
        "print (f'Test labels shape: {y_test_np.shape}')"
      ]
    },
    {
      "cell_type": "code",
      "execution_count": 408,
      "metadata": {
        "colab": {
          "base_uri": "https://localhost:8080/",
          "height": 354
        },
        "id": "kMDG0OAaSifk",
        "outputId": "a5f118e2-0d5d-42fb-f210-5d73351c6cce"
      },
      "outputs": [
        {
          "data": {
            "text/plain": [
              "Text(0, 0.5, 'count')"
            ]
          },
          "execution_count": 408,
          "metadata": {},
          "output_type": "execute_result"
        },
        {
          "data": {
            "image/png": "[encoded data removed]",
            "text/plain": [
              "<Figure size 1000x500 with 1 Axes>"
            ]
          },
          "metadata": {},
          "output_type": "display_data"
        }
      ],
      "source": [
        "plt.figure(figsize=(10, 5))\n",
        "plt.bar(*np.unique(y_train_valid, return_counts=True))\n",
        "plt.xlabel('raw y_train_valid labels')\n",
        "plt.ylabel('count')"
      ]
    },
    {
      "cell_type": "code",
      "execution_count": 409,
      "metadata": {
        "id": "7pOimbd6UXsc"
      },
      "outputs": [],
      "source": [
        "# Convert to 0-4 labeling and integer type (integers needed for categorical labels)\n",
        "y_train_valid = (y_train_valid - np.min(y_train_valid)).astype('int')\n",
        "y_test_np = (y_test_np - np.min(y_test_np)).astype('int')"
      ]
    },
    {
      "cell_type": "markdown",
      "metadata": {
        "id": "ug_mtpVFMUjY"
      },
      "source": [
        "# Modules"
      ]
    },
    {
      "cell_type": "code",
      "execution_count": 410,
      "metadata": {
        "id": "HKM-0AyhWwON"
      },
      "outputs": [],
      "source": [
        "# inherits from nn.Module\n",
        "class ShallowConvNet(nn.Module):\n",
        "    def __init__(self, input_shape=(22, 1000), n_temporal_filters=40, n_spatial_filters=40, n_classes=4):\n",
        "        super().__init__() # call __init__ method of superclass\n",
        "        \n",
        "        self.input_shape = input_shape # last two dimensions, (excluding batch size). Should be length 2.\n",
        "        self.n_temporal_filters = n_temporal_filters\n",
        "        self.n_spatial_filters = n_spatial_filters\n",
        "        self.n_classes = n_classes\n",
        "\n",
        "        # https://pytorch.org/docs/stable/generated/torch.nn.Conv2d.html#torch.nn.Conv2d\n",
        "        # torch.nn.Conv2d(in_channels, out_channels, kernel_size, stride=1, padding=0, dilation=1, groups=1, bias=True, padding_mode='zeros', device=None, dtype=None)\n",
        "        self.temporal_convolution = nn.Conv2d(1, n_temporal_filters, (1, 25))\n",
        "\n",
        "        # We could implement the spatial convolution as a 1d, or 2d, or 3d convolution.\n",
        "        # We use 2d here.\n",
        "        self.spatial_convolution = nn.Conv2d(n_temporal_filters, n_spatial_filters, (input_shape[0], 1))\n",
        "\n",
        "        self.average_pool = nn.AvgPool2d((1, 75), stride=(1, 15))\n",
        "\n",
        "        # Final linear layer\n",
        "        self.n_dense_features = n_spatial_filters*(1 + ((input_shape[1] - 25 + 1) - 75) // 15)\n",
        "        self.dense = nn.Linear(self.n_dense_features, n_classes)\n",
        "        # you can also use 'self.dense = nn.LazyLinear(n_classes)' to avoid having to manually compute features\n",
        "\n",
        "        self.elu = nn.ELU()\n",
        "        return\n",
        "    \n",
        "    # declaring a forward method also makes the instance a callable.\n",
        "    # e.g.:\n",
        "    # model = ShallowConvNet()\n",
        "    # out = model(x)\n",
        "    def forward(self, x):\n",
        "        # x has shape (batch_size, input_shape[0], input_shape[1])\n",
        "        # Let H0 = input_shape[0], H1 = input_shape[1]\n",
        "        h = x\n",
        "\n",
        "        # note that h.view(-1, 1, h.shape[1], h.shape[2]) works normally but does not work with torchinfo\n",
        "        # this is because the torchinfo input has a weird shape\n",
        "        h = h.view(-1, 1, self.input_shape[0], self.input_shape[1]) # view as (batch_size, 1, input_shape[0], input_shape[1])\n",
        "        # Sometimes, view doesn't work and you have to use reshape. This is because of how tensors are stored in memory.\n",
        "\n",
        "        # 2d convolution takes inputs of shape (batch_size, num_channels, H, W)\n",
        "        h = self.temporal_convolution(h) # (batch_size, 1, H0, W0) -> (batch_size, n_temporal_filters, H0, W0 - 25 + 1)\n",
        "        h = self.elu(h)\n",
        "\n",
        "        h = self.spatial_convolution(h) # (batch_size, n_temporal_filters, H0, W0 - 25 + 1) -> (batch_size, n_spatial_filters, 1, W0 - 25 + 1)\n",
        "        h = self.elu(h)\n",
        "\n",
        "        h = h**2 # square\n",
        "        # alternatively, use torch.pow(h, 2.0)\n",
        "\n",
        "        h = self.average_pool(h) # (batch_size, n_spatial_filters, 1, W0 - 25 + 1) -> (batch_size, n_spatial_filters, 1, 1 + ((W0 - 25 + 1) - 75)//15)\n",
        "\n",
        "        h = torch.log(h) # (natural) log\n",
        "\n",
        "        h = h.view(h.shape[0], -1) # flatten the non-batch dimensions\n",
        "        h = self.dense(h) # (batch_size, self.n_dense_features) -> (batch_size, n_classes)\n",
        "\n",
        "        return h\n",
        "\n"
      ]
    },
    {
      "cell_type": "markdown",
      "metadata": {
        "id": "lyBOaUs1aHoN"
      },
      "source": [
        "# Summarizing modules"
      ]
    },
    {
      "cell_type": "code",
      "execution_count": 411,
      "metadata": {
        "colab": {
          "base_uri": "https://localhost:8080/"
        },
        "id": "a-z9Wy21aNb0",
        "outputId": "1c60b0b3-2c58-4371-cb1c-4da54b39bf3e"
      },
      "outputs": [
        {
          "name": "stdout",
          "output_type": "stream",
          "text": [
            "==========================================================================================\n",
            "Layer (type:depth-idx)                   Output Shape              Param #\n",
            "==========================================================================================\n",
            "ShallowConvNet                           [1, 4]                    --\n",
            "├─Conv2d: 1-1                            [1, 40, 22, 976]          1,040\n",
            "├─ELU: 1-2                               [1, 40, 22, 976]          --\n",
            "├─Conv2d: 1-3                            [1, 40, 1, 976]           35,240\n",
            "├─ELU: 1-4                               [1, 40, 1, 976]           --\n",
            "├─AvgPool2d: 1-5                         [1, 40, 1, 61]            --\n",
            "├─Linear: 1-6                            [1, 4]                    9,764\n",
            "==========================================================================================\n",
            "Total params: 46,044\n",
            "Trainable params: 46,044\n",
            "Non-trainable params: 0\n",
            "Total mult-adds (M): 56.73\n",
            "==========================================================================================\n",
            "Input size (MB): 0.09\n",
            "Forward/backward pass size (MB): 7.18\n",
            "Params size (MB): 0.18\n",
            "Estimated Total Size (MB): 7.46\n",
            "==========================================================================================\n"
          ]
        }
      ],
      "source": [
        "from torchinfo import summary\n",
        "# Only uses outputs of modules.\n",
        "print(summary(ShallowConvNet(), input_size=(22, 1000)))"
      ]
    },
    {
      "cell_type": "markdown",
      "metadata": {
        "id": "ZtBY24K5796W"
      },
      "source": [
        "# Using GPUs with pytorch"
      ]
    },
    {
      "cell_type": "code",
      "execution_count": 412,
      "metadata": {
        "colab": {
          "base_uri": "https://localhost:8080/"
        },
        "id": "2H_kQQ6E72qf",
        "outputId": "1c3558cc-0721-44f8-b544-33ded8c3380b"
      },
      "outputs": [
        {
          "name": "stdout",
          "output_type": "stream",
          "text": [
            "True\n"
          ]
        }
      ],
      "source": [
        "# See https://pytorch.org/docs/stable/notes/cuda.html\n",
        "print(torch.cuda.is_available())\n",
        "device_id = 0 if torch.cuda.is_available() else 'cpu' # Equivalent to device_id = 'cuda:0'\n",
        "# device_id =  'cpu' # Equivalent to device_id = 'cuda:0'\n",
        "device = torch.device(device_id) # use these semantics to specify a specific device. "
      ]
    },
    {
      "cell_type": "code",
      "execution_count": 413,
      "metadata": {
        "colab": {
          "base_uri": "https://localhost:8080/"
        },
        "id": "5VmzvUB-Iyxd",
        "outputId": "239fd30b-2ea1-4960-d694-f71d6bc89f35"
      },
      "outputs": [
        {
          "name": "stdout",
          "output_type": "stream",
          "text": [
            "cuda:0\n",
            "cuda:0\n",
            "cpu\n"
          ]
        }
      ],
      "source": [
        "print(torch.zeros(4).cuda().device)\n",
        "print(torch.zeros(4).to(device).device)\n",
        "print(torch.zeros(4).to('cpu').device)"
      ]
    },
    {
      "cell_type": "markdown",
      "metadata": {
        "id": "9S7eX7-5743s"
      },
      "source": [
        "# Creating a dataset and dataloader"
      ]
    },
    {
      "cell_type": "code",
      "execution_count": 414,
      "metadata": {
        "id": "ETBtJtJOMKtv"
      },
      "outputs": [],
      "source": [
        "# Split the data into training and validation sets\n",
        "from sklearn.model_selection import train_test_split\n",
        "X_train_np, X_val_np, y_train_np, y_val_np = train_test_split(X_train_valid, y_train_valid, test_size=0.2, random_state=12345)\n",
        "\n",
        "t_start = 0\n",
        "t_end = 500\n",
        "t_step = 5\n",
        "t_size = int(np.ceil((t_end - t_start) / t_step))\n",
        "n_crops = 6\n",
        "t_crop = 1\n",
        "X_train_np = np.vstack([X_train_np[:, :, t_start+i*t_crop:t_end+i*t_crop:t_step] for i in np.arange(n_crops)])\n",
        "X_train_np = np.vstack((\n",
        "    X_train_np[:, :, t_start+0:t_end+0:t_step],\n",
        "    X_train_np[:, :, t_start+1:t_end+1:t_step],\n",
        "    X_train_np[:, :, t_start+2:t_end+2:t_step],\n",
        "    X_train_np[:, :, t_start+3:t_end+3:t_step],\n",
        "    nn.MaxPool1d(t_step).forward(torch.from_numpy(X_train_np[:, :, t_start:t_end]).to(device)).cpu().numpy(),\n",
        "    nn.AvgPool1d(t_step).forward(torch.from_numpy(X_train_np[:, :, t_start:t_end]).to(device)).cpu().numpy() + np.random.normal(0, 0.5, (len(X_train_np), 22, t_size))\n",
        "))\n",
        "y_train_np = np.hstack([y_train_np for _ in np.arange(n_crops)])\n",
        "# X_val_np = X_val_np[:, :, t_start:t_end:t_step]\n",
        "\n",
        "X_mean = np.mean(X_train_np, axis=2)\n",
        "X_val_mean = np.mean(X_val_np, axis=2)\n",
        "\n",
        "# X_train_np -= X_mean[:, :, np.newaxis]\n",
        "# X_val_np -= X_val_mean[:, :, np.newaxis]\n",
        "\n",
        "# X_train = torch.FloatTensor(new_X_train).to(device)\n",
        "X_train = torch.FloatTensor(X_train_np).to(device)\n",
        "X_val = torch.FloatTensor(X_val_np).to(device)\n",
        "X_test = torch.FloatTensor(X_test_np).to(device)\n",
        "# y_train = torch.LongTensor(new_y_train).to(device)\n",
        "y_train = torch.LongTensor(y_train_np).to(device)\n",
        "y_val = torch.LongTensor(y_val_np).to(device)\n",
        "y_test = torch.LongTensor(y_test_np).to(device)"
      ]
    },
    {
      "cell_type": "code",
      "execution_count": 415,
      "metadata": {
        "id": "j4tCMgcV72tH"
      },
      "outputs": [],
      "source": [
        "class MyDataset(torch.utils.data.Dataset):\n",
        "    def __init__(self, X, Y):\n",
        "        if isinstance(X, np.ndarray):\n",
        "            self.X = torch.FloatTensor(X) # 32-bit float\n",
        "        else:\n",
        "            self.X = X\n",
        "        if isinstance(Y, np.ndarray):\n",
        "            self.Y = torch.LongTensor(Y) # integer type\n",
        "        else:\n",
        "            self.Y = Y\n",
        "        return\n",
        "    \n",
        "    def __len__(self):\n",
        "        return len(self.X)\n",
        "    \n",
        "    def __getitem__(self, index):\n",
        "        return self.X[index], self.Y[index]"
      ]
    },
    {
      "cell_type": "code",
      "execution_count": 416,
      "metadata": {
        "id": "K2DnHPgZ72vR"
      },
      "outputs": [],
      "source": [
        "batch_size = 64\n",
        "train_dataset = MyDataset(X_train, y_train)\n",
        "train_dataloader = torch.utils.data.DataLoader(train_dataset, batch_size, shuffle=True)\n",
        "\n",
        "val_dataset = MyDataset(X_val, y_val)\n",
        "val_dataloader = torch.utils.data.DataLoader(val_dataset, batch_size, shuffle=False)\n",
        "\n",
        "test_dataset = MyDataset(X_test, y_test)\n",
        "test_dataloader = torch.utils.data.DataLoader(test_dataset, batch_size, shuffle=False)\n"
      ]
    },
    {
      "cell_type": "code",
      "execution_count": 417,
      "metadata": {
        "colab": {
          "base_uri": "https://localhost:8080/"
        },
        "id": "yjCEDq1jhk0p",
        "outputId": "eb96f161-d414-490d-d144-75eeed618e7d"
      },
      "outputs": [
        {
          "data": {
            "text/plain": [
              "(10152, 159)"
            ]
          },
          "execution_count": 417,
          "metadata": {},
          "output_type": "execute_result"
        }
      ],
      "source": [
        "len(train_dataset), len(train_dataloader)"
      ]
    },
    {
      "cell_type": "markdown",
      "metadata": {
        "id": "vju0uykf73Jg"
      },
      "source": [
        "# Training a model"
      ]
    },
    {
      "cell_type": "code",
      "execution_count": 418,
      "metadata": {
        "id": "asRqrRYku3nY"
      },
      "outputs": [],
      "source": [
        "import tqdm # for progress bar"
      ]
    },
    {
      "cell_type": "code",
      "execution_count": 419,
      "metadata": {
        "id": "7sWR10Toi0zu"
      },
      "outputs": [],
      "source": [
        "# # Set the random seeds.\n",
        "# # Sometimes some operations are not deterministic.\n",
        "# # See https://pytorch.org/docs/stable/notes/randomness.html\n",
        "# #   and https://pytorch.org/docs/stable/generated/torch.use_deterministic_algorithms.html\n",
        "# import random\n",
        "# torch.manual_seed(12345) # set the random seed for pytorch\n",
        "# random.seed(12345) # just in case\n",
        "# np.random.seed(12345) # just in case\n",
        "\n",
        "# model = ShallowConvNet((22, len(X_train[0][0]))).to(device)\n",
        "# # For weight regularization, add weight_decay=l2_regularization_strength to the optimizer instantiation,\n",
        "# #   or implement it manually and add it to the loss before backward propagation.\n",
        "\n",
        "# # Declare an optimizer that handles weight updates\n",
        "# # This optimizer also has its own state dictionary\n",
        "# optimizer = torch.optim.Adam(model.parameters(), weight_decay=1e-2)\n",
        "# celoss = nn.CrossEntropyLoss()\n",
        "\n",
        "# loss_hist = []\n",
        "# val_loss_hist = []\n",
        "# acc_hist = []\n",
        "# val_acc_hist = []"
      ]
    },
    {
      "cell_type": "code",
      "execution_count": 420,
      "metadata": {
        "colab": {
          "base_uri": "https://localhost:8080/"
        },
        "id": "5--1s2ZxYfCf",
        "outputId": "beda42ea-1e1b-4974-ea01-d60537a891f3"
      },
      "outputs": [],
      "source": [
        "# num_epochs = 20\n",
        "\n",
        "\n",
        "# # progress bar\n",
        "# pbar = tqdm.tqdm(\n",
        "#     range(num_epochs), position=0, leave=True,\n",
        "#     bar_format='{l_bar}{bar:30}{r_bar}',\n",
        "# )\n",
        "# for epoch in pbar:\n",
        "#     model.train() # set model to training mode.\n",
        "#     for batch in train_dataloader:\n",
        "#         optimizer.zero_grad() # clear gradients of parameters that optimizer is optimizing\n",
        "#         x, y = batch\n",
        "\n",
        "#         # x = x.to(device) # necessary if X is not on the same device as model\n",
        "#         # y = y.to(device)\n",
        "\n",
        "#         out = model(x) # shape (batch_size, n_classes)\n",
        "#         loss = celoss(out, y) # calculate the cross entropy loss\n",
        "\n",
        "#         loss.backward() # backpropagate\n",
        "#         optimizer.step() # perform optimization step\n",
        "\n",
        "#         # IMPORTANT: DO NOT store 'loss' by itself, since it references its entire computational graph.\n",
        "#         # Otherwise you will run out of memory.\n",
        "#         # You MUST use .item() to convert to a scalar or call .detach().\n",
        "#         loss_hist.append(loss.item())\n",
        "    \n",
        "#     model.eval() # set model to evaluation mode. Relevant for dropout, batchnorm, layernorm, etc.\n",
        "#     # calculate accuracy for training and validation sets\n",
        "#     ns = 0 # number of samples\n",
        "#     nc = 0 # number of correct outputs\n",
        "#     with torch.no_grad():\n",
        "#         for batch in train_dataloader:\n",
        "#             x, y = batch\n",
        "#             out = model(x)\n",
        "#             ns += len(y)\n",
        "#             nc += (out.max(1)[1] == y).detach().cpu().numpy().sum()\n",
        "#     acc_hist.append(nc/ns)\n",
        "\n",
        "#     ns = 0 # number of samples\n",
        "#     nc = 0 # number of correct outputs\n",
        "#     with torch.no_grad():\n",
        "#         for batch in val_dataloader:\n",
        "#             x, y = batch\n",
        "#             out1 = model(x[:, :, 0:400])\n",
        "#             out2 = model(x[:, :, 50:450])\n",
        "#             out3 = model(x[:, :, 100:500])\n",
        "#             out4 = model(x[:, :, 150:550])\n",
        "#             out5 = model(x[:, :, 200:600])\n",
        "#             out = (out1 + out2 + out3 + out4 + out5) / 5\n",
        "#             loss = celoss(out, y)\n",
        "#             val_loss_hist.append(loss.item())\n",
        "#             ns += len(y)\n",
        "#             nc += (out.max(1)[1] == y).detach().cpu().numpy().sum()\n",
        "#     val_acc_hist.append(nc/ns)\n",
        "\n",
        "\n",
        "#     # update progress bar postfix\n",
        "#     pbar.set_postfix({'acc': acc_hist[-1], 'val_acc': val_acc_hist[-1]})"
      ]
    },
    {
      "cell_type": "code",
      "execution_count": 421,
      "metadata": {
        "colab": {
          "base_uri": "https://localhost:8080/",
          "height": 441
        },
        "id": "VePreI2fcvNT",
        "outputId": "3dd6df27-374c-4af3-d307-26a452b20baa"
      },
      "outputs": [],
      "source": [
        "# plt.figure(dpi=100)\n",
        "# plt.plot(loss_hist, label='training')\n",
        "# plt.yscale('log')\n",
        "# plt.ylabel('loss')\n",
        "# plt.legend(loc='lower left')\n",
        "# plt.xlabel('step (training)')\n",
        "# plt.twiny()\n",
        "# plt.plot(val_loss_hist, 'r', label='validation')\n",
        "# plt.xlabel('step (validation)')\n",
        "# plt.legend(loc='upper left')"
      ]
    },
    {
      "cell_type": "code",
      "execution_count": 422,
      "metadata": {
        "colab": {
          "base_uri": "https://localhost:8080/",
          "height": 382
        },
        "id": "VZdeDUJ3cvPy",
        "outputId": "07705692-353d-453f-c4c4-6b28fe260de0"
      },
      "outputs": [],
      "source": [
        "# plt.figure(dpi=100)\n",
        "# plt.plot(acc_hist)\n",
        "# plt.plot(val_acc_hist)\n",
        "# plt.xlabel('epoch')\n",
        "# plt.ylabel('accuracy')\n",
        "# plt.legend(['training accuracy', 'validation accuracy'])\n",
        "# plt.grid()"
      ]
    },
    {
      "cell_type": "markdown",
      "metadata": {
        "id": "LR_ilLPkxAFx"
      },
      "source": [
        "# Saving models"
      ]
    },
    {
      "cell_type": "markdown",
      "metadata": {
        "id": "uiI4QrSS2Y56"
      },
      "source": [
        "#RNN"
      ]
    },
    {
      "cell_type": "code",
      "execution_count": 423,
      "metadata": {},
      "outputs": [],
      "source": [
        "class AlexNet(nn.Module):\n",
        "    def __init__(self, input_dim=22, output_dim=4):\n",
        "        super(AlexNet, self).__init__()\n",
        "        self.input_dim = input_dim\n",
        "        self.output_dim = output_dim\n",
        "\n",
        "        self.f1 = nn.Linear(input_dim, 128)\n",
        "        self.elu = nn.ELU()\n",
        "\n",
        "        self.c2 = nn.Conv1d(128, 64, 3)\n",
        "\n",
        "        self.p2 = nn.MaxPool1d(2)\n",
        "        self.d2 = nn.Dropout(0.5)\n",
        "\n",
        "        self.r3 = nn.LSTM(64, 32, batch_first=True, num_layers=1)\n",
        "        self.f4 = nn.Linear(32, output_dim)\n",
        "\n",
        "    def forward(self, x, h_0=None):\n",
        "        # x has shape (batch_size, input_dim, timesteps)\n",
        "        # h_0 has shape (D*num_layers, hidden_dim)\n",
        "\n",
        "        # print(x.shape)\n",
        "        # print(x.shape)\n",
        "\n",
        "        x = x.permute(0, 2, 1) # (batch_size, input_dim, timesteps) -> (batch_size, timesteps, input_dim)\n",
        "        x = self.f1(x)\n",
        "        x = self.elu(x)\n",
        "        x = x.permute(0, 2, 1) # (batch_size, timesteps, input_dim) -> (batch_size, input_dim, timesteps)\n",
        "\n",
        "        x = self.c2(x)\n",
        "        x = self.elu(x)\n",
        "        x = self.p2(x)\n",
        "        x = self.d2(x)\n",
        "\n",
        "        x = x.permute(0, 2, 1) # (batch_size, input_dim, timesteps) -> (batch_size, timesteps, input_dim)\n",
        "        \n",
        "        if h_0 is None:\n",
        "            x, hn = self.r3(x) # (batch_size, timesteps, input_dim) -> (batch_size, timesteps, hidden_dim)\n",
        "        else:\n",
        "            # We detach h_0 (not required, just recommended) so that the computational graph does not extend too far.\n",
        "            x, hn = self.r3(x, h_0) # (batch_size, timesteps, input_dim) -> (batch_size, timesteps, hidden_dim)\n",
        "        # hn is the stored hidden state after computation\n",
        "        x = self.f4(x[:, -1, :])\n",
        "        # x = self.elu(x)\n",
        "        # x = self.dropout(x)\n",
        "        # x = self.fc3(x)\n",
        "        return x"
      ]
    },
    {
      "cell_type": "code",
      "execution_count": 437,
      "metadata": {
        "id": "pK3o8IRgdq89"
      },
      "outputs": [],
      "source": [
        "class RNNClassifier(nn.Module):\n",
        "    def __init__(self, input_dim=22, hidden_dim=64, output_dim=4):\n",
        "        super(RNNClassifier, self).__init__()\n",
        "        self.a1 = nn.AvgPool1d(4)\n",
        "        self.d = nn.Dropout1d(0.25)\n",
        "        self.conv1 = nn.Conv1d(input_dim, 32, 2, padding='same')\n",
        "        self.h1 = nn.ReLU()\n",
        "        self.conv2 = nn.Conv1d(32, 64, 2, padding='same')\n",
        "        self.h2 = nn.ReLU()\n",
        "        self.conv3 = nn.Conv1d(64, 128, 2, padding='same')\n",
        "        self.h3 = nn.ReLU()\n",
        "        self.fc1 = nn.Linear(128, 98)\n",
        "        self.h4 = nn.ReLU()\n",
        "        self.dropout = nn.Dropout(0.5)\n",
        "        self.rnn = nn.LSTM(98, hidden_dim, batch_first=True, num_layers=1)\n",
        "        self.fc2 = nn.Linear(hidden_dim, output_dim)\n",
        "    def forward(self, x, h_0=None):\n",
        "        x = self.a1(x)\n",
        "        x = x.permute(0, 2, 1) # (batch_size, input_dim, timesteps) -> (batch_size, timesteps, input_dim)\n",
        "        x = self.d(x)\n",
        "        x = x.permute(0, 2, 1) # (batch_size, input_dim, timesteps) -> (batch_size, timesteps, input_dim)\n",
        "        x = self.conv1(x)\n",
        "        x = self.h1(x)\n",
        "        x = self.conv2(x)\n",
        "        x = self.h2(x)\n",
        "        x = self.conv3(x)\n",
        "        x = self.h3(x)\n",
        "        x = x.permute(0, 2, 1) # (batch_size, input_dim, timesteps) -> (batch_size, timesteps, input_dim)       \n",
        "        x = self.fc1(x)\n",
        "        x = self.dropout(x)\n",
        "        x = self.h4(x)\n",
        "        if h_0 is None:\n",
        "            x, hn = self.rnn(x) # (batch_size, timesteps, input_dim) -> (batch_size, timesteps, hidden_dim)\n",
        "        else:\n",
        "            x, hn = self.rnn(x, h_0) # (batch_size, timesteps, input_dim) -> (batch_size, timesteps, hidden_dim)\n",
        "        return self.fc2(x[:, -1, :])"
      ]
    },
    {
      "cell_type": "code",
      "execution_count": 425,
      "metadata": {},
      "outputs": [],
      "source": [
        "# Positional Encoding example from the torch transformer tutorial:\n",
        "# https://pytorch.org/tutorials/beginner/transformer_tutorial.html\n",
        "class PositionalEncoding(nn.Module):\n",
        "    def __init__(self, d_model: int, dropout: float = 0.1, max_len: int = 5000):\n",
        "        super().__init__()\n",
        "        self.dropout = nn.Dropout(p=dropout)\n",
        "\n",
        "        position = torch.arange(max_len).unsqueeze(1)\n",
        "        div_term = torch.exp(torch.arange(0, d_model, 2) * (-np.log(10000.0) / d_model))\n",
        "        pe = torch.zeros(max_len, 1, d_model)\n",
        "        pe[:, 0, 0::2] = torch.sin(position * div_term)\n",
        "        pe[:, 0, 1::2] = torch.cos(position * div_term)\n",
        "        self.register_buffer('pe', pe)\n",
        "\n",
        "    def forward(self, x):\n",
        "        \"\"\"\n",
        "        Args:\n",
        "            x: Tensor, shape [seq_len, batch_size, embedding_dim]\n",
        "        \"\"\"\n",
        "        x = x + self.pe[:x.size(0)]\n",
        "        return self.dropout(x)\n",
        "\n",
        "class TransformerClassifier(nn.Module):\n",
        "    def __init__(self, input_dim=22, output_dim=4):\n",
        "        super(TransformerClassifier, self).__init__()\n",
        "        self.c1 = nn.Conv1d(input_dim, 32, 2, padding='same')\n",
        "        self.h1 = nn.ReLU()\n",
        "        self.d1 = nn.Dropout(0.5)\n",
        "        self.c2 = nn.Conv1d(32, 64, 2, padding='same')\n",
        "        self.h2 = nn.ReLU()\n",
        "\n",
        "        self.p3 = PositionalEncoding(64, 0.5, 100)\n",
        "        encoder = nn.TransformerEncoderLayer(64, nhead=4, dim_feedforward=1024, dropout=0.2, batch_first=True)\n",
        "        norm = nn.LayerNorm(64)\n",
        "        self.t3 = nn.TransformerEncoder(encoder, 2, norm)\n",
        "\n",
        "        self.fl4 = nn.Flatten()\n",
        "        self.f4 = nn.LazyLinear(output_dim)\n",
        "    \n",
        "    def forward(self, x):\n",
        "        x = self.c1(x)\n",
        "        x = self.h1(x)\n",
        "        x = self.d1(x)\n",
        "        x = self.c2(x)\n",
        "        x = self.h2(x)\n",
        "\n",
        "        x = x.permute(0, 2, 1)\n",
        "        x = self.p3(x)\n",
        "        x = self.t3(x)\n",
        "\n",
        "        x = self.fl4(x)\n",
        "        x = self.f4(x)\n",
        "        return x"
      ]
    },
    {
      "cell_type": "code",
      "execution_count": 438,
      "metadata": {
        "id": "HxN0katse2oY"
      },
      "outputs": [],
      "source": [
        "# Note that sometimes RNNs run faster on cpu, but usually only if they're small.\n",
        "#device = torch.device('cpu')\n",
        "\n",
        "model = RNNClassifier().to(device)\n",
        "optimizer = torch.optim.Adam(model.parameters(), lr=1e-4, weight_decay=1e-3)\n",
        "celoss = nn.CrossEntropyLoss()\n",
        "\n",
        "loss_hist = []\n",
        "val_loss_hist = []\n",
        "acc_hist = []\n",
        "val_acc_hist = []"
      ]
    },
    {
      "cell_type": "code",
      "execution_count": 439,
      "metadata": {},
      "outputs": [
        {
          "name": "stdout",
          "output_type": "stream",
          "text": [
            "==========================================================================================\n",
            "Layer (type:depth-idx)                   Output Shape              Param #\n",
            "==========================================================================================\n",
            "RNNClassifier                            [1, 4]                    --\n",
            "├─AvgPool1d: 1-1                         [1, 22, 25]               --\n",
            "├─Dropout1d: 1-2                         [1, 25, 22]               --\n",
            "├─Conv1d: 1-3                            [1, 32, 25]               1,440\n",
            "├─ReLU: 1-4                              [1, 32, 25]               --\n",
            "├─Conv1d: 1-5                            [1, 64, 25]               4,160\n",
            "├─ReLU: 1-6                              [1, 64, 25]               --\n",
            "├─Conv1d: 1-7                            [1, 128, 25]              16,512\n",
            "├─ReLU: 1-8                              [1, 128, 25]              --\n",
            "├─Linear: 1-9                            [1, 25, 98]               12,642\n",
            "├─Dropout: 1-10                          [1, 25, 98]               --\n",
            "├─ReLU: 1-11                             [1, 25, 98]               --\n",
            "├─LSTM: 1-12                             [1, 25, 64]               41,984\n",
            "├─Linear: 1-13                           [1, 4]                    260\n",
            "==========================================================================================\n",
            "Total params: 76,998\n",
            "Trainable params: 76,998\n",
            "Non-trainable params: 0\n",
            "Total mult-adds (M): 1.62\n",
            "==========================================================================================\n",
            "Input size (MB): 0.01\n",
            "Forward/backward pass size (MB): 0.08\n",
            "Params size (MB): 0.31\n",
            "Estimated Total Size (MB): 0.39\n",
            "==========================================================================================\n"
          ]
        }
      ],
      "source": [
        "from torchinfo import summary\n",
        "print(summary(model, input_size=(22, t_size), batch_dim=0))\n"
      ]
    },
    {
      "cell_type": "code",
      "execution_count": 428,
      "metadata": {
        "colab": {
          "base_uri": "https://localhost:8080/"
        },
        "id": "wgONxriBe2oY",
        "outputId": "4195e131-ba3b-4ff5-93de-b12aa5646e66"
      },
      "outputs": [
        {
          "name": "stderr",
          "output_type": "stream",
          "text": [
            "100%|██████████████████████████████| 100/100 [03:22<00:00,  2.02s/it, acc=0.948, val_acc=0.615]\n"
          ]
        }
      ],
      "source": [
        "num_epochs = 100\n",
        "\n",
        "# progress bar\n",
        "pbar = tqdm.tqdm(\n",
        "    range(num_epochs), position=0, leave=True,\n",
        "    bar_format='{l_bar}{bar:30}{r_bar}',\n",
        ")\n",
        "for epoch in pbar:\n",
        "    model.train() # set model to training mode.\n",
        "    for batch in train_dataloader:\n",
        "        optimizer.zero_grad() # clear gradients of parameters that optimizer is optimizing\n",
        "        x, y = batch\n",
        "\n",
        "        # x = x.to(device) # necessary if X is not on the same device as model\n",
        "        # y = y.to(device)\n",
        "\n",
        "        out = model(x) # shape (batch_size, n_classes)\n",
        "        loss = celoss(out, y) # calculate the cross entropy loss\n",
        "\n",
        "        loss.backward() # backpropagate\n",
        "        optimizer.step() # perform optimization step\n",
        "    \n",
        "    model.eval() # set model to evaluation mode.\n",
        "    # calculate accuracy for training and validation sets\n",
        "    ns = 0 # number of samples\n",
        "    nc = 0 # number of correct outputs\n",
        "    loss_acc = 0\n",
        "    with torch.no_grad():\n",
        "        for batch in train_dataloader:\n",
        "            x, y = batch\n",
        "            out = model(x)\n",
        "            loss = celoss(out, y)\n",
        "            loss_acc += loss.item() * len(y)\n",
        "            ns += len(y)\n",
        "            nc += (out.max(1)[1] == y).detach().cpu().numpy().sum()\n",
        "    loss_hist.append(loss_acc / ns)\n",
        "    acc_hist.append(nc/ns)\n",
        "\n",
        "    ns = 0 # number of samples\n",
        "    nc = 0 # number of correct outputs\n",
        "    loss_acc = 0\n",
        "    with torch.no_grad():\n",
        "        for batch in val_dataloader:\n",
        "            x, y = batch\n",
        "            outs = torch.from_numpy(\n",
        "                np.array(\n",
        "                    [model(x[:, :, t_start+i*t_crop:t_end+i*t_crop:t_step]).cpu().numpy() for i in np.arange(n_crops)] +\n",
        "                    [model(nn.MaxPool1d(t_step)(x[:, :, t_start:t_end])).cpu().numpy()] +\n",
        "                    [model(nn.AvgPool1d(t_step)(x[:, :, t_start:t_end]) + torch.FloatTensor(np.random.normal(0, 0.5, (len(x), 22, t_size))).to(device)).cpu().numpy()]\n",
        "                )\n",
        "            ).to(device)\n",
        "            out = torch.mean(outs, axis=0)\n",
        "            loss = celoss(out, y)\n",
        "            loss_acc += loss.item() * len(y)\n",
        "            ns += len(y)\n",
        "            nc += (out.max(1)[1] == y).detach().cpu().numpy().sum()\n",
        "    val_loss_hist.append(loss_acc / ns)\n",
        "    val_acc_hist.append(nc/ns)\n",
        "\n",
        "\n",
        "    # update progress bar postfix\n",
        "    pbar.set_postfix({'acc': acc_hist[-1], 'val_acc': val_acc_hist[-1]})"
      ]
    },
    {
      "cell_type": "code",
      "execution_count": 434,
      "metadata": {},
      "outputs": [
        {
          "name": "stdout",
          "output_type": "stream",
          "text": [
            "Test Accuracy: 0.612\n"
          ]
        }
      ],
      "source": [
        "# Compute test accuracy\n",
        "if True:\n",
        "    model.eval() # set model to evaluation mode.\n",
        "    ns = 0 # number of samples\n",
        "    nc = 0 # number of correct outputs\n",
        "    with torch.no_grad():\n",
        "        for batch in test_dataloader:\n",
        "            x, y = batch\n",
        "            outs = torch.from_numpy(\n",
        "                np.array(\n",
        "                    [model(x[:, :, t_start+i*t_crop:t_end+i*t_crop:t_step]).cpu().numpy() for i in np.arange(n_crops)] +\n",
        "                    [model(nn.MaxPool1d(t_step)(x[:, :, t_start:t_end])).cpu().numpy()] +\n",
        "                    [model(nn.AvgPool1d(t_step)(x[:, :, t_start:t_end]) + torch.FloatTensor(np.random.normal(0, 0.5, (len(x), 22, t_size))).to(device)).cpu().numpy()]\n",
        "                )\n",
        "            ).to(device)\n",
        "            out = torch.mean(outs, axis=0)\n",
        "            ns += len(y)\n",
        "            nc += (out.max(1)[1] == y).detach().cpu().numpy().sum()\n",
        "    print(f\"Test Accuracy: {nc / ns:.3f}\")"
      ]
    },
    {
      "cell_type": "code",
      "execution_count": 430,
      "metadata": {},
      "outputs": [],
      "source": [
        "# Best to use .pt for file extensions\n",
        "# I used to think .pth was used, but it turns out it can have potential conflicts with python\n",
        "#   (See https://stackoverflow.com/questions/59095824/what-is-the-difference-between-pt-pth-and-pwf-extentions-in-pytorch)\n",
        "\n",
        "# Save only the model weights\n",
        "i = 0\n",
        "i += 1\n",
        "torch.save(model.state_dict(), f'transformer_{i}_weightsonly.pt')\n",
        "\n",
        "# Save an entire checkpoint\n",
        "checkpoint = {\n",
        "    'model': model.state_dict(),\n",
        "    'optimizer': optimizer.state_dict(),\n",
        "    'loss_hist': loss_hist,\n",
        "    'acc_hist': acc_hist,\n",
        "    'val_loss_hist': val_loss_hist,\n",
        "    'val_acc_hist': val_acc_hist,\n",
        "}\n",
        "torch.save(checkpoint, f'transformer_{i}_checkpoint.pt')"
      ]
    },
    {
      "cell_type": "code",
      "execution_count": 440,
      "metadata": {},
      "outputs": [],
      "source": [
        "chkpt = torch.load(f'rnn_1_checkpoint.pt')\n",
        "loss_hist = chkpt['loss_hist']\n",
        "acc_hist = chkpt['acc_hist']\n",
        "val_loss_hist = chkpt['val_loss_hist']\n",
        "val_acc_hist = chkpt['val_acc_hist']"
      ]
    },
    {
      "cell_type": "code",
      "execution_count": 436,
      "metadata": {},
      "outputs": [
        {
          "data": {
            "image/png": "[encoded data removed]",
            "text/plain": [
              "<Figure size 640x480 with 1 Axes>"
            ]
          },
          "metadata": {},
          "output_type": "display_data"
        }
      ],
      "source": [
        "plt.plot(np.arange(len(val_acc_hist)), val_acc_hist, label='val acc')\n",
        "plt.plot(np.arange(len(acc_hist)), acc_hist, label='train acc')\n",
        "plt.plot(np.arange(len(val_loss_hist)), val_loss_hist, linestyle='--', label='val loss')\n",
        "plt.plot(np.arange(len(loss_hist)), loss_hist, linestyle='--', label='train loss')\n",
        "plt.ylabel('Accuracy / Loss')\n",
        "plt.xlabel('Epoch')\n",
        "plt.legend()\n",
        "plt.grid(True, alpha=0.3)\n",
        "plt.show()"
      ]
    },
    {
      "cell_type": "code",
      "execution_count": 433,
      "metadata": {
        "colab": {
          "base_uri": "https://localhost:8080/",
          "height": 382
        },
        "id": "tKehHgIme2oZ",
        "outputId": "e2dc086c-deea-410c-b19f-6acc7ad7510f"
      },
      "outputs": [
        {
          "data": {
            "image/png": "[encoded data removed]",
            "text/plain": [
              "<Figure size 640x480 with 2 Axes>"
            ]
          },
          "metadata": {},
          "output_type": "display_data"
        },
        {
          "data": {
            "image/png": "[encoded data removed]",
            "text/plain": [
              "<Figure size 640x480 with 1 Axes>"
            ]
          },
          "metadata": {},
          "output_type": "display_data"
        }
      ],
      "source": [
        "plt.figure(dpi=100)\n",
        "plt.plot(loss_hist, label='training')\n",
        "plt.yscale('log')\n",
        "plt.ylabel('loss')\n",
        "plt.legend(loc='lower left')\n",
        "plt.xlabel('step (training)')\n",
        "plt.twiny()\n",
        "plt.plot(val_loss_hist, 'r', label='validation')\n",
        "plt.xlabel('step (validation)')\n",
        "plt.legend(loc='upper left')\n",
        "plt.figure(dpi=100)\n",
        "plt.plot(acc_hist)\n",
        "plt.plot(val_acc_hist)\n",
        "plt.xlabel('epoch')\n",
        "plt.ylabel('accuracy')\n",
        "plt.legend(['training accuracy', 'validation accuracy'])\n",
        "plt.grid()"
      ]
    }
  ],
  "metadata": {
    "accelerator": "GPU",
    "colab": {
      "provenance": []
    },
    "gpuClass": "standard",
    "kernelspec": {
      "display_name": "Python 3",
      "name": "python3"
    },
    "language_info": {
      "codemirror_mode": {
        "name": "ipython",
        "version": 3
      },
      "file_extension": ".py",
      "mimetype": "text/x-python",
      "name": "python",
      "nbconvert_exporter": "python",
      "pygments_lexer": "ipython3",
      "version": "3.8.10"
    }
  },
  "nbformat": 4,
  "nbformat_minor": 0
}
